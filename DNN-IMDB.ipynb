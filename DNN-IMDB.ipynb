{
 "cells": [
  {
   "cell_type": "markdown",
   "id": "a2b61ab8",
   "metadata": {
    "papermill": {
     "duration": 0.03419,
     "end_time": "2022-03-13T04:00:00.399079",
     "exception": false,
     "start_time": "2022-03-13T04:00:00.364889",
     "status": "completed"
    },
    "tags": []
   },
   "source": [
    "# <font color=darkgreen> Building a Deep Neural Network on IMDB dataset </font>\n",
    "\n",
    "The IMDB dataset consists of 50,000 reviews from the Internet Movie Database split into 50% positive and negative reviews respectively. Also, 25,000 reviews are used for training while the remaining 25,000 for testing."
   ]
  },
  {
   "cell_type": "markdown",
   "id": "d473ec95",
   "metadata": {
    "papermill": {
     "duration": 0.034513,
     "end_time": "2022-03-13T04:00:00.466909",
     "exception": false,
     "start_time": "2022-03-13T04:00:00.432396",
     "status": "completed"
    },
    "tags": []
   },
   "source": [
    "### <font color=deeppink> Import our essential libraries </font>"
   ]
  },
  {
   "cell_type": "code",
   "execution_count": 1,
   "id": "97a2db08",
   "metadata": {
    "execution": {
     "iopub.execute_input": "2022-03-13T04:00:00.541102Z",
     "iopub.status.busy": "2022-03-13T04:00:00.539581Z",
     "iopub.status.idle": "2022-03-13T04:00:05.025752Z",
     "shell.execute_reply": "2022-03-13T04:00:05.025083Z",
     "shell.execute_reply.started": "2022-03-13T03:50:53.382607Z"
    },
    "papermill": {
     "duration": 4.523681,
     "end_time": "2022-03-13T04:00:05.025901",
     "exception": false,
     "start_time": "2022-03-13T04:00:00.502220",
     "status": "completed"
    },
    "tags": []
   },
   "outputs": [],
   "source": [
    "# We need os, sys, numpy, tensorflow, matplotlib.pyplot\n",
    "import os\n",
    "import sys\n",
    "import numpy as np\n",
    "import tensorflow as tf\n",
    "import matplotlib.pyplot as plt\n",
    "from sklearn.metrics import log_loss, accuracy_score, confusion_matrix\n",
    "%matplotlib inline"
   ]
  },
  {
   "cell_type": "markdown",
   "id": "aa220515",
   "metadata": {
    "papermill": {
     "duration": 0.032675,
     "end_time": "2022-03-13T04:00:05.094656",
     "exception": false,
     "start_time": "2022-03-13T04:00:05.061981",
     "status": "completed"
    },
    "tags": []
   },
   "source": [
    "### <font color=deeppink> Loading the IMDB dataset </font>"
   ]
  },
  {
   "cell_type": "code",
   "execution_count": 2,
   "id": "0e17f2b8",
   "metadata": {
    "execution": {
     "iopub.execute_input": "2022-03-13T04:00:05.166548Z",
     "iopub.status.busy": "2022-03-13T04:00:05.165890Z",
     "iopub.status.idle": "2022-03-13T04:00:10.617762Z",
     "shell.execute_reply": "2022-03-13T04:00:10.617260Z",
     "shell.execute_reply.started": "2022-03-13T03:50:53.391528Z"
    },
    "papermill": {
     "duration": 5.490249,
     "end_time": "2022-03-13T04:00:10.617906",
     "exception": false,
     "start_time": "2022-03-13T04:00:05.127657",
     "status": "completed"
    },
    "tags": []
   },
   "outputs": [
    {
     "name": "stdout",
     "output_type": "stream",
     "text": [
      "Downloading data from https://storage.googleapis.com/tensorflow/tf-keras-datasets/imdb.npz\n",
      "17465344/17464789 [==============================] - 0s 0us/step\n",
      "17473536/17464789 [==============================] - 0s 0us/step\n"
     ]
    }
   ],
   "source": [
    "# IMDB dataset comes pre-packaged with keras\n",
    "from tensorflow.keras.datasets import imdb\n",
    "(train_data, train_labels), (test_data, test_labels) = imdb.load_data(num_words=10000)\n",
    "# # num_words=10000 will retain only the top 10,000 most frequently occurring words in the training data.\n",
    "# # this will discard rare words and help us stay focused on the vector data of manageable size.\n",
    "# # without this limitation, we would end up working with 88,585 unique words in the sample data"
   ]
  },
  {
   "cell_type": "code",
   "execution_count": 3,
   "id": "49e06193",
   "metadata": {
    "execution": {
     "iopub.execute_input": "2022-03-13T04:00:10.696655Z",
     "iopub.status.busy": "2022-03-13T04:00:10.695812Z",
     "iopub.status.idle": "2022-03-13T04:00:10.698171Z",
     "shell.execute_reply": "2022-03-13T04:00:10.697630Z",
     "shell.execute_reply.started": "2022-03-13T03:50:59.186075Z"
    },
    "papermill": {
     "duration": 0.040594,
     "end_time": "2022-03-13T04:00:10.698290",
     "exception": false,
     "start_time": "2022-03-13T04:00:10.657696",
     "status": "completed"
    },
    "tags": []
   },
   "outputs": [],
   "source": [
    "# Display the dimensions of the data\n",
    "# Train data - axes, shape, datatype\n"
   ]
  },
  {
   "cell_type": "code",
   "execution_count": 4,
   "id": "37a67b79",
   "metadata": {
    "execution": {
     "iopub.execute_input": "2022-03-13T04:00:10.771762Z",
     "iopub.status.busy": "2022-03-13T04:00:10.770972Z",
     "iopub.status.idle": "2022-03-13T04:00:10.772927Z",
     "shell.execute_reply": "2022-03-13T04:00:10.773302Z",
     "shell.execute_reply.started": "2022-03-13T03:50:59.193668Z"
    },
    "papermill": {
     "duration": 0.040142,
     "end_time": "2022-03-13T04:00:10.773428",
     "exception": false,
     "start_time": "2022-03-13T04:00:10.733286",
     "status": "completed"
    },
    "tags": []
   },
   "outputs": [],
   "source": [
    "# Display the dimensions of the data\n",
    "# Test images - axes, shape, datatype\n"
   ]
  },
  {
   "cell_type": "code",
   "execution_count": 5,
   "id": "cf16529d",
   "metadata": {
    "execution": {
     "iopub.execute_input": "2022-03-13T04:00:10.847860Z",
     "iopub.status.busy": "2022-03-13T04:00:10.847177Z",
     "iopub.status.idle": "2022-03-13T04:00:10.849920Z",
     "shell.execute_reply": "2022-03-13T04:00:10.849475Z",
     "shell.execute_reply.started": "2022-03-13T03:50:59.212948Z"
    },
    "papermill": {
     "duration": 0.041783,
     "end_time": "2022-03-13T04:00:10.850028",
     "exception": false,
     "start_time": "2022-03-13T04:00:10.808245",
     "status": "completed"
    },
    "tags": []
   },
   "outputs": [],
   "source": [
    "# Display a sample review from the dataset\n",
    "# sample_review = \n",
    "# print(sample_review)\n",
    "# # Each word in the review has been mapped to an index"
   ]
  },
  {
   "cell_type": "code",
   "execution_count": 6,
   "id": "91b41805",
   "metadata": {
    "execution": {
     "iopub.execute_input": "2022-03-13T04:00:10.923774Z",
     "iopub.status.busy": "2022-03-13T04:00:10.922914Z",
     "iopub.status.idle": "2022-03-13T04:00:10.925011Z",
     "shell.execute_reply": "2022-03-13T04:00:10.925422Z",
     "shell.execute_reply.started": "2022-03-13T03:50:59.222058Z"
    },
    "papermill": {
     "duration": 0.040249,
     "end_time": "2022-03-13T04:00:10.925537",
     "exception": false,
     "start_time": "2022-03-13T04:00:10.885288",
     "status": "completed"
    },
    "tags": []
   },
   "outputs": [],
   "source": [
    "# Let us print out the lengthiest review in the training data\n",
    "# lengthy_review = \n",
    "# print(lengthy_review)"
   ]
  },
  {
   "cell_type": "code",
   "execution_count": 7,
   "id": "49854606",
   "metadata": {
    "execution": {
     "iopub.execute_input": "2022-03-13T04:00:11.001841Z",
     "iopub.status.busy": "2022-03-13T04:00:11.001000Z",
     "iopub.status.idle": "2022-03-13T04:00:11.003496Z",
     "shell.execute_reply": "2022-03-13T04:00:11.003079Z",
     "shell.execute_reply.started": "2022-03-13T03:50:59.230713Z"
    },
    "papermill": {
     "duration": 0.04133,
     "end_time": "2022-03-13T04:00:11.003603",
     "exception": false,
     "start_time": "2022-03-13T04:00:10.962273",
     "status": "completed"
    },
    "tags": []
   },
   "outputs": [],
   "source": [
    "# Now print out the number of words in the sample review and the lengthy review\n",
    "# print(f\"Number of words in the sample review = {}\",\n",
    "#       f\"\\nNumber of words in the lengthy review = {}\")"
   ]
  },
  {
   "cell_type": "code",
   "execution_count": 8,
   "id": "84abb5e9",
   "metadata": {
    "execution": {
     "iopub.execute_input": "2022-03-13T04:00:11.078481Z",
     "iopub.status.busy": "2022-03-13T04:00:11.077713Z",
     "iopub.status.idle": "2022-03-13T04:00:11.080113Z",
     "shell.execute_reply": "2022-03-13T04:00:11.079687Z",
     "shell.execute_reply.started": "2022-03-13T03:50:59.239583Z"
    },
    "papermill": {
     "duration": 0.041192,
     "end_time": "2022-03-13T04:00:11.080220",
     "exception": false,
     "start_time": "2022-03-13T04:00:11.039028",
     "status": "completed"
    },
    "tags": []
   },
   "outputs": [],
   "source": [
    "# Print the max index in the sample and lengthy review\n",
    "# print(f\"The maximum word index in the sample review = {}\",\n",
    "#      f\"\\nThe maximum word index in the lengthy review = {}\")\n",
    "\n",
    "# the index will never exceed 9999 since we are looking at the top 10,000 most frequently occurring words in the reviews"
   ]
  },
  {
   "cell_type": "code",
   "execution_count": 9,
   "id": "8de1c190",
   "metadata": {
    "execution": {
     "iopub.execute_input": "2022-03-13T04:00:11.153729Z",
     "iopub.status.busy": "2022-03-13T04:00:11.152989Z",
     "iopub.status.idle": "2022-03-13T04:00:16.259094Z",
     "shell.execute_reply": "2022-03-13T04:00:16.259764Z",
     "shell.execute_reply.started": "2022-03-13T03:50:59.248986Z"
    },
    "papermill": {
     "duration": 5.145576,
     "end_time": "2022-03-13T04:00:16.259963",
     "exception": false,
     "start_time": "2022-03-13T04:00:11.114387",
     "status": "completed"
    },
    "tags": []
   },
   "outputs": [
    {
     "name": "stdout",
     "output_type": "stream",
     "text": [
      "(25000,)\n",
      "\n"
     ]
    }
   ],
   "source": [
    "# Now repeat loading the dataset into train_data2 and test_data2 and check for the max word index in the lengthiest review.\n",
    "# Here, we do not restrict to the maximum number of frequently occurring words\n",
    "(train_data2, train_labels2), (test_data2, test_labels2) = imdb.load_data()\n",
    "print(train_data2.shape)\n",
    "print()\n",
    "# Question: How many total words are there across all the reviews?\n",
    "# Answer: "
   ]
  },
  {
   "cell_type": "code",
   "execution_count": 10,
   "id": "229ae029",
   "metadata": {
    "execution": {
     "iopub.execute_input": "2022-03-13T04:00:16.337097Z",
     "iopub.status.busy": "2022-03-13T04:00:16.336282Z",
     "iopub.status.idle": "2022-03-13T04:00:16.433757Z",
     "shell.execute_reply": "2022-03-13T04:00:16.433298Z",
     "shell.execute_reply.started": "2022-03-13T03:53:02.955308Z"
    },
    "papermill": {
     "duration": 0.136779,
     "end_time": "2022-03-13T04:00:16.433890",
     "exception": false,
     "start_time": "2022-03-13T04:00:16.297111",
     "status": "completed"
    },
    "tags": []
   },
   "outputs": [
    {
     "name": "stdout",
     "output_type": "stream",
     "text": [
      "Downloading data from https://storage.googleapis.com/tensorflow/tf-keras-datasets/imdb_word_index.json\n",
      "1646592/1641221 [==============================] - 0s 0us/step\n",
      "1654784/1641221 [==============================] - 0s 0us/step\n"
     ]
    }
   ],
   "source": [
    "# View the worded review (print these statements one at a time, comment out the rest)\n",
    "word_index = imdb.get_word_index()\n",
    "# print(word_index)\n",
    "# The key is the word and the index is the value, hence to get back the word, we need to reverse its order\n",
    "# reverse_word_index = dict([(value, key) for (key, value) in word_index.items()])\n",
    "# print(reverse_word_index)\n",
    "# sample_worded_review = ' '.join([reverse_word_index.get(i - 3, '-') for i in sample_review])\n",
    "# print(sample_worded_review)\n",
    "# lengthy_worded_review = ' '.join([reverse_word_index.get(i - 3 , '?') for i in lengthy_review])\n",
    "# print(lengthy_worded_review)\n",
    "# The indices are offset by 3 places because index 0 is reserved for \"padding\", \n",
    "# 1 for \"start of the sequence\" and 2 for 'unknown\"\n"
   ]
  },
  {
   "cell_type": "markdown",
   "id": "5a3b345f",
   "metadata": {
    "papermill": {
     "duration": 0.036345,
     "end_time": "2022-03-13T04:00:16.506362",
     "exception": false,
     "start_time": "2022-03-13T04:00:16.470017",
     "status": "completed"
    },
    "tags": []
   },
   "source": [
    "### <font color=deeppink>Dataset preparation </font>\n",
    "\n",
    "In this case, we cannot directly feed a list of integers, so we shall one-hot encode (multi-hot encoding) the data\n",
    "One-hot encoding transforms the list into a vector where only the value of the index where the word occurs would be 1 and rest all 0. \n",
    "For example: If we have a review as $[0, 34, 500, 45, 23]$, then one-hot encoding will create a 10,000 dimensional vector (10,000 values) with $1$ only in positions $0, 34, 500, 45, 23$ and the remaining 9,995 positions with values $0$."
   ]
  },
  {
   "cell_type": "code",
   "execution_count": 11,
   "id": "bf7860ba",
   "metadata": {
    "execution": {
     "iopub.execute_input": "2022-03-13T04:00:16.586269Z",
     "iopub.status.busy": "2022-03-13T04:00:16.585422Z",
     "iopub.status.idle": "2022-03-13T04:00:19.511197Z",
     "shell.execute_reply": "2022-03-13T04:00:19.511935Z",
     "shell.execute_reply.started": "2022-03-13T03:53:06.746474Z"
    },
    "papermill": {
     "duration": 2.96873,
     "end_time": "2022-03-13T04:00:19.512135",
     "exception": false,
     "start_time": "2022-03-13T04:00:16.543405",
     "status": "completed"
    },
    "tags": []
   },
   "outputs": [
    {
     "name": "stdout",
     "output_type": "stream",
     "text": [
      "(25000, 10000)\n",
      "(25000, 10000)\n"
     ]
    }
   ],
   "source": [
    "# Prepare the dataset for the neural network, we need tensor values - normalized values between 0 to 1\n",
    "def one_hot_encode_data(review, dimension=10000): \n",
    "    encoded_data = np.zeros((len(review), dimension))\n",
    "    for idx, words in enumerate(review):\n",
    "        encoded_data[idx, words] = 1. # 1. for a floating point value\n",
    "    return encoded_data\n",
    "\n",
    "x_train = one_hot_encode_data(train_data)\n",
    "x_test = one_hot_encode_data(test_data)\n",
    "\n",
    "print(x_train.shape)\n",
    "print(x_test.shape)"
   ]
  },
  {
   "cell_type": "code",
   "execution_count": 12,
   "id": "08cccc6f",
   "metadata": {
    "execution": {
     "iopub.execute_input": "2022-03-13T04:00:19.593121Z",
     "iopub.status.busy": "2022-03-13T04:00:19.592406Z",
     "iopub.status.idle": "2022-03-13T04:00:19.595403Z",
     "shell.execute_reply": "2022-03-13T04:00:19.595820Z",
     "shell.execute_reply.started": "2022-03-13T03:53:09.616672Z"
    },
    "papermill": {
     "duration": 0.045983,
     "end_time": "2022-03-13T04:00:19.595949",
     "exception": false,
     "start_time": "2022-03-13T04:00:19.549966",
     "status": "completed"
    },
    "tags": []
   },
   "outputs": [
    {
     "data": {
      "text/plain": [
       "array([0., 1., 1., ..., 0., 0., 0.])"
      ]
     },
     "execution_count": 12,
     "metadata": {},
     "output_type": "execute_result"
    }
   ],
   "source": [
    "x_train[0]"
   ]
  },
  {
   "cell_type": "code",
   "execution_count": 13,
   "id": "e3f8bb24",
   "metadata": {
    "execution": {
     "iopub.execute_input": "2022-03-13T04:00:19.683225Z",
     "iopub.status.busy": "2022-03-13T04:00:19.682441Z",
     "iopub.status.idle": "2022-03-13T04:00:19.685853Z",
     "shell.execute_reply": "2022-03-13T04:00:19.686464Z",
     "shell.execute_reply.started": "2022-03-13T03:53:09.626735Z"
    },
    "papermill": {
     "duration": 0.04501,
     "end_time": "2022-03-13T04:00:19.686630",
     "exception": false,
     "start_time": "2022-03-13T04:00:19.641620",
     "status": "completed"
    },
    "tags": []
   },
   "outputs": [
    {
     "name": "stdout",
     "output_type": "stream",
     "text": [
      "(25000,)\n",
      "(25000,)\n"
     ]
    }
   ],
   "source": [
    "# Convert the labels to numpy arrays and float values like the data\n",
    "y_train = np.asarray(train_labels).astype('float32')\n",
    "y_test = np.asarray(test_labels).astype('float32')\n",
    "\n",
    "print(y_train.shape)\n",
    "print(y_test.shape)"
   ]
  },
  {
   "cell_type": "code",
   "execution_count": 14,
   "id": "26885226",
   "metadata": {
    "execution": {
     "iopub.execute_input": "2022-03-13T04:00:19.765365Z",
     "iopub.status.busy": "2022-03-13T04:00:19.764755Z",
     "iopub.status.idle": "2022-03-13T04:00:19.767320Z",
     "shell.execute_reply": "2022-03-13T04:00:19.767740Z",
     "shell.execute_reply.started": "2022-03-13T03:53:09.636201Z"
    },
    "papermill": {
     "duration": 0.043545,
     "end_time": "2022-03-13T04:00:19.767859",
     "exception": false,
     "start_time": "2022-03-13T04:00:19.724314",
     "status": "completed"
    },
    "tags": []
   },
   "outputs": [
    {
     "data": {
      "text/plain": [
       "1.0"
      ]
     },
     "execution_count": 14,
     "metadata": {},
     "output_type": "execute_result"
    }
   ],
   "source": [
    "y_train[0]"
   ]
  },
  {
   "cell_type": "markdown",
   "id": "2355a23c",
   "metadata": {
    "papermill": {
     "duration": 0.037419,
     "end_time": "2022-03-13T04:00:19.842612",
     "exception": false,
     "start_time": "2022-03-13T04:00:19.805193",
     "status": "completed"
    },
    "tags": []
   },
   "source": [
    "### <font color=deeppink> Building the model </font>"
   ]
  },
  {
   "cell_type": "code",
   "execution_count": 15,
   "id": "01c25444",
   "metadata": {
    "execution": {
     "iopub.execute_input": "2022-03-13T04:00:19.922547Z",
     "iopub.status.busy": "2022-03-13T04:00:19.922040Z",
     "iopub.status.idle": "2022-03-13T04:00:22.256752Z",
     "shell.execute_reply": "2022-03-13T04:00:22.257289Z",
     "shell.execute_reply.started": "2022-03-13T03:53:12.345823Z"
    },
    "papermill": {
     "duration": 2.37733,
     "end_time": "2022-03-13T04:00:22.257484",
     "exception": false,
     "start_time": "2022-03-13T04:00:19.880154",
     "status": "completed"
    },
    "tags": []
   },
   "outputs": [
    {
     "name": "stderr",
     "output_type": "stream",
     "text": [
      "2022-03-13 04:00:20.011753: I tensorflow/stream_executor/cuda/cuda_gpu_executor.cc:937] successful NUMA node read from SysFS had negative value (-1), but there must be at least one NUMA node, so returning NUMA node zero\n",
      "2022-03-13 04:00:20.105118: I tensorflow/stream_executor/cuda/cuda_gpu_executor.cc:937] successful NUMA node read from SysFS had negative value (-1), but there must be at least one NUMA node, so returning NUMA node zero\n",
      "2022-03-13 04:00:20.105852: I tensorflow/stream_executor/cuda/cuda_gpu_executor.cc:937] successful NUMA node read from SysFS had negative value (-1), but there must be at least one NUMA node, so returning NUMA node zero\n",
      "2022-03-13 04:00:20.107063: I tensorflow/core/platform/cpu_feature_guard.cc:142] This TensorFlow binary is optimized with oneAPI Deep Neural Network Library (oneDNN) to use the following CPU instructions in performance-critical operations:  AVX2 AVX512F FMA\n",
      "To enable them in other operations, rebuild TensorFlow with the appropriate compiler flags.\n",
      "2022-03-13 04:00:20.107856: I tensorflow/stream_executor/cuda/cuda_gpu_executor.cc:937] successful NUMA node read from SysFS had negative value (-1), but there must be at least one NUMA node, so returning NUMA node zero\n",
      "2022-03-13 04:00:20.108758: I tensorflow/stream_executor/cuda/cuda_gpu_executor.cc:937] successful NUMA node read from SysFS had negative value (-1), but there must be at least one NUMA node, so returning NUMA node zero\n",
      "2022-03-13 04:00:20.109601: I tensorflow/stream_executor/cuda/cuda_gpu_executor.cc:937] successful NUMA node read from SysFS had negative value (-1), but there must be at least one NUMA node, so returning NUMA node zero\n",
      "2022-03-13 04:00:21.908013: I tensorflow/stream_executor/cuda/cuda_gpu_executor.cc:937] successful NUMA node read from SysFS had negative value (-1), but there must be at least one NUMA node, so returning NUMA node zero\n",
      "2022-03-13 04:00:21.908828: I tensorflow/stream_executor/cuda/cuda_gpu_executor.cc:937] successful NUMA node read from SysFS had negative value (-1), but there must be at least one NUMA node, so returning NUMA node zero\n",
      "2022-03-13 04:00:21.909466: I tensorflow/stream_executor/cuda/cuda_gpu_executor.cc:937] successful NUMA node read from SysFS had negative value (-1), but there must be at least one NUMA node, so returning NUMA node zero\n",
      "2022-03-13 04:00:21.910064: I tensorflow/core/common_runtime/gpu/gpu_device.cc:1510] Created device /job:localhost/replica:0/task:0/device:GPU:0 with 15403 MB memory:  -> device: 0, name: Tesla P100-PCIE-16GB, pci bus id: 0000:00:04.0, compute capability: 6.0\n"
     ]
    }
   ],
   "source": [
    "# Build the model -- do you recollect?\n",
    "# We need a Sequential model with 3 Dense layers, with 16 neurons in the first two layers\n",
    "# and the last with ____ neurons (num_classes) \n",
    "\n",
    "model = tf.keras.models.Sequential([\n",
    "tf.keras.layers.Dense(16, activation='relu', name='Dense1', input_shape=(10000,)),\n",
    "tf.keras.layers.Dense(16, activation='relu', name='Dense2'),\n",
    "tf.keras.layers.Dense(1, activation='sigmoid', name='Dense_final')\n",
    "])\n",
    "# Later, experiment with 2 Dense layers and 4 Dense layers also vary the hidden neurons (dense layer neurons)\n"
   ]
  },
  {
   "cell_type": "code",
   "execution_count": 16,
   "id": "0ef5178c",
   "metadata": {
    "execution": {
     "iopub.execute_input": "2022-03-13T04:00:22.340783Z",
     "iopub.status.busy": "2022-03-13T04:00:22.339990Z",
     "iopub.status.idle": "2022-03-13T04:00:22.344057Z",
     "shell.execute_reply": "2022-03-13T04:00:22.344477Z",
     "shell.execute_reply.started": "2022-03-13T03:53:14.632588Z"
    },
    "papermill": {
     "duration": 0.048136,
     "end_time": "2022-03-13T04:00:22.344609",
     "exception": false,
     "start_time": "2022-03-13T04:00:22.296473",
     "status": "completed"
    },
    "scrolled": true,
    "tags": []
   },
   "outputs": [
    {
     "name": "stdout",
     "output_type": "stream",
     "text": [
      "Model: \"sequential\"\n",
      "_________________________________________________________________\n",
      "Layer (type)                 Output Shape              Param #   \n",
      "=================================================================\n",
      "Dense1 (Dense)               (None, 16)                160016    \n",
      "_________________________________________________________________\n",
      "Dense2 (Dense)               (None, 16)                272       \n",
      "_________________________________________________________________\n",
      "Dense_final (Dense)          (None, 1)                 17        \n",
      "=================================================================\n",
      "Total params: 160,305\n",
      "Trainable params: 160,305\n",
      "Non-trainable params: 0\n",
      "_________________________________________________________________\n"
     ]
    }
   ],
   "source": [
    "model.summary() # we need to mention the input_shape when defining the model in order to print the summary\n",
    "# What would be the input_shape?"
   ]
  },
  {
   "cell_type": "markdown",
   "id": "642bf99a",
   "metadata": {
    "papermill": {
     "duration": 0.038798,
     "end_time": "2022-03-13T04:00:22.422211",
     "exception": false,
     "start_time": "2022-03-13T04:00:22.383413",
     "status": "completed"
    },
    "tags": []
   },
   "source": [
    "### <font color=deeppink> Compiling the model </font>"
   ]
  },
  {
   "cell_type": "code",
   "execution_count": 17,
   "id": "201d0105",
   "metadata": {
    "execution": {
     "iopub.execute_input": "2022-03-13T04:00:22.506442Z",
     "iopub.status.busy": "2022-03-13T04:00:22.503404Z",
     "iopub.status.idle": "2022-03-13T04:00:22.913985Z",
     "shell.execute_reply": "2022-03-13T04:00:22.912980Z",
     "shell.execute_reply.started": "2022-03-13T03:53:25.384987Z"
    },
    "papermill": {
     "duration": 0.453523,
     "end_time": "2022-03-13T04:00:22.914119",
     "exception": false,
     "start_time": "2022-03-13T04:00:22.460596",
     "status": "completed"
    },
    "tags": []
   },
   "outputs": [],
   "source": [
    "# Compile the model\n",
    "# Here we shall specify the optimizer, the loss function and the metrics the model needs to focus on\n",
    "model.compile(optimizer='rmsprop',\n",
    "loss='binary_crossentropy',\n",
    "metrics=['accuracy'])"
   ]
  },
  {
   "cell_type": "markdown",
   "id": "4350432c",
   "metadata": {
    "papermill": {
     "duration": 0.03824,
     "end_time": "2022-03-13T04:00:22.991148",
     "exception": false,
     "start_time": "2022-03-13T04:00:22.952908",
     "status": "completed"
    },
    "tags": []
   },
   "source": [
    "### <font color=deeppink> Training the model </font>"
   ]
  },
  {
   "cell_type": "code",
   "execution_count": 18,
   "id": "259d6ecd",
   "metadata": {
    "execution": {
     "iopub.execute_input": "2022-03-13T04:00:23.073319Z",
     "iopub.status.busy": "2022-03-13T04:00:23.072741Z",
     "iopub.status.idle": "2022-03-13T04:00:45.551055Z",
     "shell.execute_reply": "2022-03-13T04:00:45.550516Z",
     "shell.execute_reply.started": "2022-03-13T03:53:26.373828Z"
    },
    "papermill": {
     "duration": 22.52169,
     "end_time": "2022-03-13T04:00:45.551195",
     "exception": false,
     "start_time": "2022-03-13T04:00:23.029505",
     "status": "completed"
    },
    "scrolled": true,
    "tags": []
   },
   "outputs": [
    {
     "name": "stderr",
     "output_type": "stream",
     "text": [
      "2022-03-13 04:00:24.572725: I tensorflow/compiler/mlir/mlir_graph_optimization_pass.cc:185] None of the MLIR Optimization Passes are enabled (registered 2)\n"
     ]
    },
    {
     "name": "stdout",
     "output_type": "stream",
     "text": [
      "Epoch 1/20\n",
      "30/30 [==============================] - 3s 63ms/step - loss: 0.5238 - accuracy: 0.7907 - val_loss: 0.3869 - val_accuracy: 0.8734\n",
      "Epoch 2/20\n",
      "30/30 [==============================] - 1s 18ms/step - loss: 0.3072 - accuracy: 0.9042 - val_loss: 0.3064 - val_accuracy: 0.8853\n",
      "Epoch 3/20\n",
      "30/30 [==============================] - 1s 19ms/step - loss: 0.2263 - accuracy: 0.9258 - val_loss: 0.2777 - val_accuracy: 0.8919\n",
      "Epoch 4/20\n",
      "30/30 [==============================] - 1s 18ms/step - loss: 0.1758 - accuracy: 0.9441 - val_loss: 0.2740 - val_accuracy: 0.8909\n",
      "Epoch 5/20\n",
      "30/30 [==============================] - 1s 20ms/step - loss: 0.1462 - accuracy: 0.9533 - val_loss: 0.2814 - val_accuracy: 0.8881\n",
      "Epoch 6/20\n",
      "30/30 [==============================] - 1s 18ms/step - loss: 0.1164 - accuracy: 0.9651 - val_loss: 0.2928 - val_accuracy: 0.8853\n",
      "Epoch 7/20\n",
      "30/30 [==============================] - 1s 18ms/step - loss: 0.1006 - accuracy: 0.9700 - val_loss: 0.3167 - val_accuracy: 0.8826\n",
      "Epoch 8/20\n",
      "30/30 [==============================] - 1s 18ms/step - loss: 0.0804 - accuracy: 0.9779 - val_loss: 0.3444 - val_accuracy: 0.8760\n",
      "Epoch 9/20\n",
      "30/30 [==============================] - 1s 19ms/step - loss: 0.0673 - accuracy: 0.9827 - val_loss: 0.3667 - val_accuracy: 0.8794\n",
      "Epoch 10/20\n",
      "30/30 [==============================] - 1s 19ms/step - loss: 0.0551 - accuracy: 0.9877 - val_loss: 0.4065 - val_accuracy: 0.8665\n",
      "Epoch 11/20\n",
      "30/30 [==============================] - 1s 18ms/step - loss: 0.0437 - accuracy: 0.9902 - val_loss: 0.4735 - val_accuracy: 0.8651\n",
      "Epoch 12/20\n",
      "30/30 [==============================] - 1s 18ms/step - loss: 0.0358 - accuracy: 0.9931 - val_loss: 0.4279 - val_accuracy: 0.8749\n",
      "Epoch 13/20\n",
      "30/30 [==============================] - 1s 19ms/step - loss: 0.0288 - accuracy: 0.9947 - val_loss: 0.4594 - val_accuracy: 0.8724\n",
      "Epoch 14/20\n",
      "30/30 [==============================] - 1s 22ms/step - loss: 0.0223 - accuracy: 0.9967 - val_loss: 0.4936 - val_accuracy: 0.8709\n",
      "Epoch 15/20\n",
      "30/30 [==============================] - 1s 20ms/step - loss: 0.0185 - accuracy: 0.9969 - val_loss: 0.5301 - val_accuracy: 0.8703\n",
      "Epoch 16/20\n",
      "30/30 [==============================] - 1s 20ms/step - loss: 0.0126 - accuracy: 0.9989 - val_loss: 0.5610 - val_accuracy: 0.8679\n",
      "Epoch 17/20\n",
      "30/30 [==============================] - 1s 19ms/step - loss: 0.0107 - accuracy: 0.9986 - val_loss: 0.5996 - val_accuracy: 0.8670\n",
      "Epoch 18/20\n",
      "30/30 [==============================] - 1s 19ms/step - loss: 0.0101 - accuracy: 0.9980 - val_loss: 0.6279 - val_accuracy: 0.8657\n",
      "Epoch 19/20\n",
      "30/30 [==============================] - 1s 18ms/step - loss: 0.0045 - accuracy: 0.9998 - val_loss: 0.6595 - val_accuracy: 0.8660\n",
      "Epoch 20/20\n",
      "30/30 [==============================] - 1s 18ms/step - loss: 0.0074 - accuracy: 0.9985 - val_loss: 0.6942 - val_accuracy: 0.8649\n"
     ]
    }
   ],
   "source": [
    "# Let us prepare our validation dataset (10,000 reviews from the train dataset)\n",
    "x_val = x_train[:10000] # reserving the first 10,000 reviews for validation\n",
    "x_train_small = x_train[10000:] # reserving the remaining 15,000 reviews for training\n",
    "y_val = y_train[:10000]\n",
    "y_train_small = y_train[10000:]\n",
    "# Finally train the model on the train_data and train_labels, epochs=20 and batch_size=512\n",
    "history = model.fit(x_train_small, y_train_small,\n",
    "epochs=20,\n",
    "batch_size=512,\n",
    "validation_data=(x_val, y_val))"
   ]
  },
  {
   "cell_type": "markdown",
   "id": "b43ed51e",
   "metadata": {
    "papermill": {
     "duration": 0.162081,
     "end_time": "2022-03-13T04:00:45.824859",
     "exception": false,
     "start_time": "2022-03-13T04:00:45.662778",
     "status": "completed"
    },
    "tags": []
   },
   "source": [
    "### <font color=deeppink> Plotting the training vs. validation accuracy </font>"
   ]
  },
  {
   "cell_type": "code",
   "execution_count": 19,
   "id": "d7c1aed0",
   "metadata": {
    "execution": {
     "iopub.execute_input": "2022-03-13T04:00:46.128712Z",
     "iopub.status.busy": "2022-03-13T04:00:46.123399Z",
     "iopub.status.idle": "2022-03-13T04:00:46.569515Z",
     "shell.execute_reply": "2022-03-13T04:00:46.569107Z",
     "shell.execute_reply.started": "2022-03-13T03:53:48.182515Z"
    },
    "papermill": {
     "duration": 0.596163,
     "end_time": "2022-03-13T04:00:46.569634",
     "exception": false,
     "start_time": "2022-03-13T04:00:45.973471",
     "status": "completed"
    },
    "tags": []
   },
   "outputs": [
    {
     "data": {
      "image/png": "[encoded data removed]",
      "text/plain": [
       "<Figure size 432x288 with 1 Axes>"
      ]
     },
     "metadata": {
      "needs_background": "light"
     },
     "output_type": "display_data"
    },
    {
     "data": {
      "image/png": "[encoded data removed]",
      "text/plain": [
       "<Figure size 432x288 with 1 Axes>"
      ]
     },
     "metadata": {
      "needs_background": "light"
     },
     "output_type": "display_data"
    }
   ],
   "source": [
    "history_dict = history.history\n",
    "loss_value = history_dict['loss']\n",
    "val_loss_value = history_dict['val_loss']\n",
    "acc = history_dict['accuracy']\n",
    "val_acc = history_dict['val_accuracy']\n",
    "epochs = range(1, len(loss_value) + 1)\n",
    "plt.plot(epochs, loss_value, 'b', label='Training Loss')\n",
    "plt.plot(epochs, val_loss_value, 'r', label='Validation Loss')\n",
    "plt.title('Training and Validation Loss')\n",
    "plt.xlabel('Epochs')\n",
    "plt.ylabel('Loss')\n",
    "plt.legend()\n",
    "# plt.savefig('D:/SCIT/MBA-DSDA/Semester-II/Deep Learning-2123/Code Files/Output/imdb_dnn_loss.png')\n",
    "plt.show()\n",
    "\n",
    "plt.figure()\n",
    "\n",
    "plt.plot(epochs, acc, 'b', label='Training Accuracy')\n",
    "plt.plot(epochs, val_acc, 'r', label='Validation Accuracy')\n",
    "plt.title('Training and Validation Accuracy')\n",
    "plt.xlabel('Epochs')\n",
    "plt.ylabel('Accuracy')\n",
    "plt.legend()\n",
    "# plt.savefig('D:/SCIT/MBA-DSDA/Semester-II/Deep Learning-2123/Code Files/Output/imdb_dnn_acc.png')\n",
    "plt.show()"
   ]
  },
  {
   "cell_type": "markdown",
   "id": "d155a294",
   "metadata": {
    "papermill": {
     "duration": 0.086856,
     "end_time": "2022-03-13T04:00:46.743344",
     "exception": false,
     "start_time": "2022-03-13T04:00:46.656488",
     "status": "completed"
    },
    "tags": []
   },
   "source": [
    "### <font color=deeppink> Let us predict and see </font>"
   ]
  },
  {
   "cell_type": "code",
   "execution_count": 20,
   "id": "a94a0ff0",
   "metadata": {
    "execution": {
     "iopub.execute_input": "2022-03-13T04:00:46.924314Z",
     "iopub.status.busy": "2022-03-13T04:00:46.923435Z",
     "iopub.status.idle": "2022-03-13T04:00:47.013604Z",
     "shell.execute_reply": "2022-03-13T04:00:47.014110Z",
     "shell.execute_reply.started": "2022-03-13T03:53:54.878410Z"
    },
    "papermill": {
     "duration": 0.185357,
     "end_time": "2022-03-13T04:00:47.014265",
     "exception": false,
     "start_time": "2022-03-13T04:00:46.828908",
     "status": "completed"
    },
    "tags": []
   },
   "outputs": [
    {
     "name": "stdout",
     "output_type": "stream",
     "text": [
      "Y_pred = 0 and Y_true = 1.0\n"
     ]
    }
   ],
   "source": [
    "# Let us predict and see\n",
    "# y_pred = model.predict_classes(np.expand_dims(x_test[4], axis=0))\n",
    "# print('Y_pred = {} and Y_true = {}'.format(y_pred, y_test[4]))\n",
    "\n",
    "# Try building the model by replacing the last Dense layer to have __ input neurons \n",
    "# when the activation function=softmax\n",
    "# What should happen to the loss function? Try with binary_crossentropy, does it work?\n",
    "# Now recall what you used for the MNIST dataset and check if that loss function works?\n",
    "\n",
    "# Uncomment and execute the following two lines of code \n",
    "y_pred = model.predict(np.expand_dims(x_test[4], axis=0))\n",
    "print('Y_pred = {} and Y_true = {}'.format(np.argmax(y_pred), y_test[4])) # Try without np.argmax first"
   ]
  },
  {
   "cell_type": "markdown",
   "id": "6c703c87",
   "metadata": {
    "papermill": {
     "duration": 0.086969,
     "end_time": "2022-03-13T04:00:47.188197",
     "exception": false,
     "start_time": "2022-03-13T04:00:47.101228",
     "status": "completed"
    },
    "tags": []
   },
   "source": [
    "### <font color=deeppink> Re-train the model for 4 epochs and then predict the results </font>"
   ]
  },
  {
   "cell_type": "code",
   "execution_count": 21,
   "id": "8f2dc71d",
   "metadata": {
    "execution": {
     "iopub.execute_input": "2022-03-13T04:00:47.368642Z",
     "iopub.status.busy": "2022-03-13T04:00:47.367490Z",
     "iopub.status.idle": "2022-03-13T04:00:57.225993Z",
     "shell.execute_reply": "2022-03-13T04:00:57.225328Z",
     "shell.execute_reply.started": "2022-03-13T03:54:07.690574Z"
    },
    "papermill": {
     "duration": 9.950354,
     "end_time": "2022-03-13T04:00:57.226173",
     "exception": false,
     "start_time": "2022-03-13T04:00:47.275819",
     "status": "completed"
    },
    "tags": []
   },
   "outputs": [
    {
     "name": "stderr",
     "output_type": "stream",
     "text": [
      "2022-03-13 04:00:47.710047: W tensorflow/core/framework/cpu_allocator_impl.cc:80] Allocation of 1000000000 exceeds 10% of free system memory.\n",
      "2022-03-13 04:00:48.711411: W tensorflow/core/framework/cpu_allocator_impl.cc:80] Allocation of 1000000000 exceeds 10% of free system memory.\n"
     ]
    },
    {
     "name": "stdout",
     "output_type": "stream",
     "text": [
      "Epoch 1/14\n",
      "49/49 [==============================] - 1s 13ms/step - loss: 0.2377 - accuracy: 0.9452\n",
      "Epoch 2/14\n",
      "49/49 [==============================] - 1s 12ms/step - loss: 0.1363 - accuracy: 0.9600\n",
      "Epoch 3/14\n",
      "49/49 [==============================] - 1s 12ms/step - loss: 0.1044 - accuracy: 0.9682\n",
      "Epoch 4/14\n",
      "49/49 [==============================] - 1s 12ms/step - loss: 0.0808 - accuracy: 0.9754\n",
      "Epoch 5/14\n",
      "49/49 [==============================] - 1s 12ms/step - loss: 0.0636 - accuracy: 0.9810\n",
      "Epoch 6/14\n",
      "49/49 [==============================] - 1s 10ms/step - loss: 0.0502 - accuracy: 0.9858\n",
      "Epoch 7/14\n",
      "49/49 [==============================] - 0s 9ms/step - loss: 0.0373 - accuracy: 0.9904\n",
      "Epoch 8/14\n",
      "49/49 [==============================] - 0s 9ms/step - loss: 0.0292 - accuracy: 0.9927\n",
      "Epoch 9/14\n",
      "49/49 [==============================] - 1s 11ms/step - loss: 0.0227 - accuracy: 0.9946\n",
      "Epoch 10/14\n",
      "49/49 [==============================] - 1s 10ms/step - loss: 0.0150 - accuracy: 0.9968\n",
      "Epoch 11/14\n",
      "49/49 [==============================] - 1s 11ms/step - loss: 0.0121 - accuracy: 0.9969\n",
      "Epoch 12/14\n",
      "49/49 [==============================] - 1s 11ms/step - loss: 0.0082 - accuracy: 0.9982\n",
      "Epoch 13/14\n",
      "49/49 [==============================] - 1s 11ms/step - loss: 0.0061 - accuracy: 0.9988\n",
      "Epoch 14/14\n",
      "49/49 [==============================] - 1s 14ms/step - loss: 0.0041 - accuracy: 0.9993\n"
     ]
    }
   ],
   "source": [
    "# Before executing the following code, ensure to re-run the model and its compilation code \n",
    "# Try ommitting the above step and you'll see the model's accuracy explode\n",
    "# This time we train on the complete training set for the ideal number of epochs\n",
    "history2 = model.fit(x_train, y_train,\n",
    "epochs=14,\n",
    "batch_size=512)"
   ]
  },
  {
   "cell_type": "code",
   "execution_count": 22,
   "id": "d1c180e0",
   "metadata": {
    "execution": {
     "iopub.execute_input": "2022-03-13T04:00:57.553926Z",
     "iopub.status.busy": "2022-03-13T04:00:57.553063Z",
     "iopub.status.idle": "2022-03-13T04:00:57.554875Z",
     "shell.execute_reply": "2022-03-13T04:00:57.555317Z",
     "shell.execute_reply.started": "2022-03-13T03:54:29.053170Z"
    },
    "papermill": {
     "duration": 0.146213,
     "end_time": "2022-03-13T04:00:57.555447",
     "exception": false,
     "start_time": "2022-03-13T04:00:57.409234",
     "status": "completed"
    },
    "tags": []
   },
   "outputs": [],
   "source": [
    "# history_dict = history2.history\n",
    "# loss_value = history_dict['loss']\n",
    "# val_loss_value = history_dict['val_loss']\n",
    "# acc = history_dict['accuracy']\n",
    "# val_acc = history_dict['val_accuracy']\n",
    "# epochs = range(1, len(loss_value) + 1)\n",
    "# plt.plot(epochs, loss_value, 'b', label='Training Loss')\n",
    "# plt.plot(epochs, val_loss_value, 'r', label='Validation Loss')\n",
    "# plt.title('Training and Validation Loss')\n",
    "# plt.xlabel('Epochs')\n",
    "# plt.ylabel('Loss')\n",
    "# plt.legend()\n",
    "# # plt.savefig('D:/SCIT/MBA-DSDA/Semester-II/Deep Learning-2123/Code Files/Output/imdb_dnn_loss.png')\n",
    "# plt.show()\n",
    "\n",
    "# plt.figure()\n",
    "\n",
    "# plt.plot(epochs, acc, 'b', label='Training Accuracy')\n",
    "# plt.plot(epochs, val_acc, 'r', label='Validation Accuracy')\n",
    "# plt.title('Training and Validation Accuracy')\n",
    "# plt.xlabel('Epochs')\n",
    "# plt.ylabel('Accuracy')\n",
    "# plt.legend()\n",
    "# # plt.savefig('D:/SCIT/MBA-DSDA/Semester-II/Deep Learning-2123/Code Files/Output/imdb_dnn_acc.png')\n",
    "# plt.show()"
   ]
  },
  {
   "cell_type": "code",
   "execution_count": 23,
   "id": "f060d689",
   "metadata": {
    "execution": {
     "iopub.execute_input": "2022-03-13T04:00:57.839059Z",
     "iopub.status.busy": "2022-03-13T04:00:57.838053Z",
     "iopub.status.idle": "2022-03-13T04:01:05.007566Z",
     "shell.execute_reply": "2022-03-13T04:01:05.007991Z",
     "shell.execute_reply.started": "2022-03-13T03:55:00.270636Z"
    },
    "papermill": {
     "duration": 7.31386,
     "end_time": "2022-03-13T04:01:05.008158",
     "exception": false,
     "start_time": "2022-03-13T04:00:57.694298",
     "status": "completed"
    },
    "tags": []
   },
   "outputs": [
    {
     "name": "stderr",
     "output_type": "stream",
     "text": [
      "2022-03-13 04:00:58.377457: W tensorflow/core/framework/cpu_allocator_impl.cc:80] Allocation of 1000000000 exceeds 10% of free system memory.\n",
      "2022-03-13 04:00:59.519188: W tensorflow/core/framework/cpu_allocator_impl.cc:80] Allocation of 1000000000 exceeds 10% of free system memory.\n"
     ]
    },
    {
     "name": "stdout",
     "output_type": "stream",
     "text": [
      "782/782 [==============================] - 2s 2ms/step - loss: 1.0365 - accuracy: 0.8514\n",
      "Test Loss = 1.0365209579467773 and Test Accuracy = 0.851360023021698\n"
     ]
    },
    {
     "name": "stderr",
     "output_type": "stream",
     "text": [
      "2022-03-13 04:01:02.270996: W tensorflow/core/framework/cpu_allocator_impl.cc:80] Allocation of 1000000000 exceeds 10% of free system memory.\n"
     ]
    },
    {
     "data": {
      "text/plain": [
       "array([[0.0025821 ],\n",
       "       [1.        ],\n",
       "       [1.        ],\n",
       "       ...,\n",
       "       [0.01237368],\n",
       "       [0.0040884 ],\n",
       "       [0.96082497]], dtype=float32)"
      ]
     },
     "execution_count": 23,
     "metadata": {},
     "output_type": "execute_result"
    }
   ],
   "source": [
    "# Evaluate the model\n",
    "\n",
    "(loss_model, acc_model) = model.evaluate(x_test, y_test)\n",
    "# Print the test loss and test accuracy obtained\n",
    "print(f'Test Loss = {loss_model} and Test Accuracy = {acc_model}')\n",
    "# Predict and see\n",
    "results = model.predict(x_test)\n",
    "results"
   ]
  },
  {
   "cell_type": "code",
   "execution_count": 24,
   "id": "cffd5355",
   "metadata": {
    "execution": {
     "iopub.execute_input": "2022-03-13T04:01:05.313930Z",
     "iopub.status.busy": "2022-03-13T04:01:05.312772Z",
     "iopub.status.idle": "2022-03-13T04:01:08.717175Z",
     "shell.execute_reply": "2022-03-13T04:01:08.717549Z",
     "shell.execute_reply.started": "2022-03-13T03:55:07.367432Z"
    },
    "papermill": {
     "duration": 3.559896,
     "end_time": "2022-03-13T04:01:08.717727",
     "exception": false,
     "start_time": "2022-03-13T04:01:05.157831",
     "status": "completed"
    },
    "tags": []
   },
   "outputs": [
    {
     "name": "stdout",
     "output_type": "stream",
     "text": [
      "[[0.0025821 ]\n",
      " [1.        ]\n",
      " [1.        ]\n",
      " ...\n",
      " [0.01237368]\n",
      " [0.0040884 ]\n",
      " [0.96082497]]\n"
     ]
    }
   ],
   "source": [
    "# Display the confusion matrix\n",
    "from sklearn.metrics import log_loss, accuracy_score, confusion_matrix\n",
    "# confusion_matrix(test_data, prediction_data)\n",
    "results2 = model.predict(x_test)\n",
    "results3 = [1 if result >= 0.5 else 0 for result in results2]\n",
    "# confusion_matrix(y_test, np.argmax(results2))\n",
    "print(results2)"
   ]
  },
  {
   "cell_type": "code",
   "execution_count": 25,
   "id": "0e8833dd",
   "metadata": {
    "execution": {
     "iopub.execute_input": "2022-03-13T04:01:09.018595Z",
     "iopub.status.busy": "2022-03-13T04:01:09.017819Z",
     "iopub.status.idle": "2022-03-13T04:01:09.119704Z",
     "shell.execute_reply": "2022-03-13T04:01:09.119274Z",
     "shell.execute_reply.started": "2022-03-13T03:55:26.449308Z"
    },
    "papermill": {
     "duration": 0.254048,
     "end_time": "2022-03-13T04:01:09.119826",
     "exception": false,
     "start_time": "2022-03-13T04:01:08.865778",
     "status": "completed"
    },
    "tags": []
   },
   "outputs": [
    {
     "data": {
      "text/plain": [
       "array([[10939,  1561],\n",
       "       [ 2155, 10345]])"
      ]
     },
     "execution_count": 25,
     "metadata": {},
     "output_type": "execute_result"
    }
   ],
   "source": [
    "# confusion_matrix?\n",
    "confusion_matrix(y_test,results3)"
   ]
  },
  {
   "cell_type": "code",
   "execution_count": 26,
   "id": "f662267b",
   "metadata": {
    "execution": {
     "iopub.execute_input": "2022-03-13T04:01:09.423569Z",
     "iopub.status.busy": "2022-03-13T04:01:09.422706Z",
     "iopub.status.idle": "2022-03-13T04:01:09.424502Z",
     "shell.execute_reply": "2022-03-13T04:01:09.424954Z",
     "shell.execute_reply.started": "2022-03-13T03:57:10.769411Z"
    },
    "papermill": {
     "duration": 0.156062,
     "end_time": "2022-03-13T04:01:09.425084",
     "exception": false,
     "start_time": "2022-03-13T04:01:09.269022",
     "status": "completed"
    },
    "tags": []
   },
   "outputs": [],
   "source": [
    "# Now write a function to display a descriptive confusion matrix\n",
    "def display_confusion_matrix(actual, pred):\n",
    "    (tn, fp), (fn, tp) = confusion_matrix(actual, pred)\n",
    "    print('-----------Confusion Matrix(actual, pred)------------')\n",
    "    print(f'True Positives = {tp} \\t True Negatives = {tn}',\n",
    "         f'\\nFale Negatives = {fn} \\t False Positives = {fp}')\n",
    "    print('=======================================')\n",
    "    print(f'Accuracy = {(tp+tn) / (tp+fn+tn+fp)}')\n",
    "    \n",
    "\n",
    "    \n"
   ]
  },
  {
   "cell_type": "code",
   "execution_count": 27,
   "id": "6585d14c",
   "metadata": {
    "execution": {
     "iopub.execute_input": "2022-03-13T04:01:09.747766Z",
     "iopub.status.busy": "2022-03-13T04:01:09.737664Z",
     "iopub.status.idle": "2022-03-13T04:01:11.981882Z",
     "shell.execute_reply": "2022-03-13T04:01:11.980937Z",
     "shell.execute_reply.started": "2022-03-13T03:57:11.617022Z"
    },
    "papermill": {
     "duration": 2.408422,
     "end_time": "2022-03-13T04:01:11.982045",
     "exception": false,
     "start_time": "2022-03-13T04:01:09.573623",
     "status": "completed"
    },
    "tags": []
   },
   "outputs": [
    {
     "name": "stdout",
     "output_type": "stream",
     "text": [
      "[0.  0.1 0.2 0.3 0.4 0.5 0.6 0.7 0.8 0.9]\n",
      "--Threshold 0.0--\n",
      "[1. 1. 1. ... 1. 1. 1.]\n",
      "-----------Confusion Matrix(actual, pred)------------\n",
      "True Positives = 12500 \t True Negatives = 0 \n",
      "Fale Negatives = 0 \t False Positives = 12500\n",
      "=======================================\n",
      "Accuracy = 0.5\n",
      "--Threshold 0.1--\n",
      "[0. 1. 1. ... 0. 0. 1.]\n",
      "-----------Confusion Matrix(actual, pred)------------\n",
      "True Positives = 10914 \t True Negatives = 10405 \n",
      "Fale Negatives = 1586 \t False Positives = 2095\n",
      "=======================================\n",
      "Accuracy = 0.85276\n",
      "--Threshold 0.2--\n",
      "[0. 1. 1. ... 0. 0. 1.]\n",
      "-----------Confusion Matrix(actual, pred)------------\n",
      "True Positives = 10703 \t True Negatives = 10630 \n",
      "Fale Negatives = 1797 \t False Positives = 1870\n",
      "=======================================\n",
      "Accuracy = 0.85332\n",
      "--Threshold 0.30000000000000004--\n",
      "[0. 1. 1. ... 0. 0. 1.]\n",
      "-----------Confusion Matrix(actual, pred)------------\n",
      "True Positives = 10564 \t True Negatives = 10753 \n",
      "Fale Negatives = 1936 \t False Positives = 1747\n",
      "=======================================\n",
      "Accuracy = 0.85268\n",
      "--Threshold 0.4--\n",
      "[0. 1. 1. ... 0. 0. 1.]\n",
      "-----------Confusion Matrix(actual, pred)------------\n",
      "True Positives = 10454 \t True Negatives = 10853 \n",
      "Fale Negatives = 2046 \t False Positives = 1647\n",
      "=======================================\n",
      "Accuracy = 0.85228\n",
      "--Threshold 0.5--\n",
      "[0. 1. 1. ... 0. 0. 1.]\n",
      "-----------Confusion Matrix(actual, pred)------------\n",
      "True Positives = 10345 \t True Negatives = 10939 \n",
      "Fale Negatives = 2155 \t False Positives = 1561\n",
      "=======================================\n",
      "Accuracy = 0.85136\n",
      "--Threshold 0.6000000000000001--\n",
      "[0. 1. 1. ... 0. 0. 1.]\n",
      "-----------Confusion Matrix(actual, pred)------------\n",
      "True Positives = 10229 \t True Negatives = 11021 \n",
      "Fale Negatives = 2271 \t False Positives = 1479\n",
      "=======================================\n",
      "Accuracy = 0.85\n",
      "--Threshold 0.7000000000000001--\n",
      "[0. 1. 1. ... 0. 0. 1.]\n",
      "-----------Confusion Matrix(actual, pred)------------\n",
      "True Positives = 10098 \t True Negatives = 11115 \n",
      "Fale Negatives = 2402 \t False Positives = 1385\n",
      "=======================================\n",
      "Accuracy = 0.84852\n",
      "--Threshold 0.8--\n",
      "[0. 1. 1. ... 0. 0. 1.]\n",
      "-----------Confusion Matrix(actual, pred)------------\n",
      "True Positives = 9956 \t True Negatives = 11194 \n",
      "Fale Negatives = 2544 \t False Positives = 1306\n",
      "=======================================\n",
      "Accuracy = 0.846\n",
      "--Threshold 0.9--\n",
      "[0. 1. 1. ... 0. 0. 1.]\n",
      "-----------Confusion Matrix(actual, pred)------------\n",
      "True Positives = 9699 \t True Negatives = 11303 \n",
      "Fale Negatives = 2801 \t False Positives = 1197\n",
      "=======================================\n",
      "Accuracy = 0.84008\n"
     ]
    }
   ],
   "source": [
    "t = np.arange(0, 1, 0.1)\n",
    "print(t)\n",
    "fpr = []\n",
    "tpr = []\n",
    "for t1 in t:\n",
    "    print(f'--Threshold {t1}--')\n",
    "    pred = np.zeros((y_test.shape))\n",
    "    for idx, r in enumerate(results):\n",
    "        if r > t1:\n",
    "            pred[idx] = 1\n",
    "    print(pred)\n",
    "    display_confusion_matrix(y_test, pred)\n",
    "    (tn, fp), (fn, tp) = confusion_matrix(y_test, pred)\n",
    "    fpr1 = fp / (fp + tn)\n",
    "    tpr1 = tp / (tp + fn)\n",
    "    fpr.append(fpr1)\n",
    "    tpr.append(tpr1)"
   ]
  },
  {
   "cell_type": "code",
   "execution_count": 28,
   "id": "baef3367",
   "metadata": {
    "execution": {
     "iopub.execute_input": "2022-03-13T04:01:12.356161Z",
     "iopub.status.busy": "2022-03-13T04:01:12.320289Z",
     "iopub.status.idle": "2022-03-13T04:01:14.702166Z",
     "shell.execute_reply": "2022-03-13T04:01:14.702723Z",
     "shell.execute_reply.started": "2022-03-13T03:58:29.774374Z"
    },
    "papermill": {
     "duration": 2.568819,
     "end_time": "2022-03-13T04:01:14.702929",
     "exception": false,
     "start_time": "2022-03-13T04:01:12.134110",
     "status": "completed"
    },
    "tags": []
   },
   "outputs": [
    {
     "name": "stdout",
     "output_type": "stream",
     "text": [
      "[0.  0.1 0.2 0.3 0.4 0.5 0.6 0.7 0.8 0.9]\n",
      "--Threshold 0.0--\n",
      "[1. 1. 1. ... 1. 1. 1.]\n",
      "-----------Confusion Matrix(actual, pred)------------\n",
      "True Positives = 10345 \t True Negatives = 10939 \n",
      "Fale Negatives = 2155 \t False Positives = 1561\n",
      "=======================================\n",
      "Accuracy = 0.85136\n",
      "--Threshold 0.1--\n",
      "[0. 1. 1. ... 0. 0. 1.]\n",
      "-----------Confusion Matrix(actual, pred)------------\n",
      "True Positives = 10345 \t True Negatives = 10939 \n",
      "Fale Negatives = 2155 \t False Positives = 1561\n",
      "=======================================\n",
      "Accuracy = 0.85136\n",
      "--Threshold 0.2--\n",
      "[0. 1. 1. ... 0. 0. 1.]\n",
      "-----------Confusion Matrix(actual, pred)------------\n",
      "True Positives = 10345 \t True Negatives = 10939 \n",
      "Fale Negatives = 2155 \t False Positives = 1561\n",
      "=======================================\n",
      "Accuracy = 0.85136\n",
      "--Threshold 0.30000000000000004--\n",
      "[0. 1. 1. ... 0. 0. 1.]\n",
      "-----------Confusion Matrix(actual, pred)------------\n",
      "True Positives = 10345 \t True Negatives = 10939 \n",
      "Fale Negatives = 2155 \t False Positives = 1561\n",
      "=======================================\n",
      "Accuracy = 0.85136\n",
      "--Threshold 0.4--\n",
      "[0. 1. 1. ... 0. 0. 1.]\n",
      "-----------Confusion Matrix(actual, pred)------------\n",
      "True Positives = 10345 \t True Negatives = 10939 \n",
      "Fale Negatives = 2155 \t False Positives = 1561\n",
      "=======================================\n",
      "Accuracy = 0.85136\n",
      "--Threshold 0.5--\n",
      "[0. 1. 1. ... 0. 0. 1.]\n",
      "-----------Confusion Matrix(actual, pred)------------\n",
      "True Positives = 10345 \t True Negatives = 10939 \n",
      "Fale Negatives = 2155 \t False Positives = 1561\n",
      "=======================================\n",
      "Accuracy = 0.85136\n",
      "--Threshold 0.6000000000000001--\n",
      "[0. 1. 1. ... 0. 0. 1.]\n",
      "-----------Confusion Matrix(actual, pred)------------\n",
      "True Positives = 10345 \t True Negatives = 10939 \n",
      "Fale Negatives = 2155 \t False Positives = 1561\n",
      "=======================================\n",
      "Accuracy = 0.85136\n",
      "--Threshold 0.7000000000000001--\n",
      "[0. 1. 1. ... 0. 0. 1.]\n",
      "-----------Confusion Matrix(actual, pred)------------\n",
      "True Positives = 10345 \t True Negatives = 10939 \n",
      "Fale Negatives = 2155 \t False Positives = 1561\n",
      "=======================================\n",
      "Accuracy = 0.85136\n",
      "--Threshold 0.8--\n",
      "[0. 1. 1. ... 0. 0. 1.]\n",
      "-----------Confusion Matrix(actual, pred)------------\n",
      "True Positives = 10345 \t True Negatives = 10939 \n",
      "Fale Negatives = 2155 \t False Positives = 1561\n",
      "=======================================\n",
      "Accuracy = 0.85136\n",
      "--Threshold 0.9--\n",
      "[0. 1. 1. ... 0. 0. 1.]\n",
      "-----------Confusion Matrix(actual, pred)------------\n",
      "True Positives = 10345 \t True Negatives = 10939 \n",
      "Fale Negatives = 2155 \t False Positives = 1561\n",
      "=======================================\n",
      "Accuracy = 0.85136\n"
     ]
    }
   ],
   "source": [
    "t = np.arange(0, 1, 0.1)\n",
    "print(t)\n",
    "fpr = []\n",
    "tpr = []\n",
    "for t1 in t:\n",
    "    print(f'--Threshold {t1}--')\n",
    "    pred = np.zeros((y_test.shape))\n",
    "    for idx, r in enumerate(results):\n",
    "        if r > t1:\n",
    "            pred[idx] = 1\n",
    "    print(pred)\n",
    "    display_confusion_matrix(y_test, results3)\n",
    "    (tn, fp), (fn, tp) = confusion_matrix(y_test, pred)\n",
    "    fpr1 = fp / (fp + tn)\n",
    "    tpr1 = tp / (tp + fn)\n",
    "    fpr.append(fpr1)\n",
    "    tpr.append(tpr1)\n",
    "    "
   ]
  },
  {
   "cell_type": "code",
   "execution_count": 29,
   "id": "3f8c3944",
   "metadata": {
    "execution": {
     "iopub.execute_input": "2022-03-13T04:01:15.033434Z",
     "iopub.status.busy": "2022-03-13T04:01:15.020239Z",
     "iopub.status.idle": "2022-03-13T04:01:15.222604Z",
     "shell.execute_reply": "2022-03-13T04:01:15.223069Z",
     "shell.execute_reply.started": "2022-03-13T03:57:23.497948Z"
    },
    "papermill": {
     "duration": 0.363184,
     "end_time": "2022-03-13T04:01:15.223220",
     "exception": false,
     "start_time": "2022-03-13T04:01:14.860036",
     "status": "completed"
    },
    "tags": []
   },
   "outputs": [
    {
     "name": "stdout",
     "output_type": "stream",
     "text": [
      "[1.0, 0.1676, 0.1496, 0.13976, 0.13176, 0.12488, 0.11832, 0.1108, 0.10448, 0.09576]\n",
      "[1.0, 0.87312, 0.85624, 0.84512, 0.83632, 0.8276, 0.81832, 0.80784, 0.79648, 0.77592]\n",
      "--ROC CURVE-----\n"
     ]
    },
    {
     "data": {
      "image/png": "[encoded data removed]",
      "text/plain": [
       "<Figure size 432x288 with 1 Axes>"
      ]
     },
     "metadata": {
      "needs_background": "light"
     },
     "output_type": "display_data"
    }
   ],
   "source": [
    "print(fpr)\n",
    "print(tpr)\n",
    "\n",
    "print('--ROC CURVE-----')\n",
    "plt.figure()\n",
    "plt.plot(fpr, tpr)\n",
    "plt.title('ROC Curve')\n",
    "plt.xlabel('FPR')\n",
    "plt.ylabel('TPR')\n",
    "plt.show()"
   ]
  },
  {
   "cell_type": "code",
   "execution_count": 30,
   "id": "7922714b",
   "metadata": {
    "execution": {
     "iopub.execute_input": "2022-03-13T04:01:15.546733Z",
     "iopub.status.busy": "2022-03-13T04:01:15.545920Z",
     "iopub.status.idle": "2022-03-13T04:01:28.120940Z",
     "shell.execute_reply": "2022-03-13T04:01:28.121465Z",
     "shell.execute_reply.started": "2022-03-13T03:58:46.729350Z"
    },
    "papermill": {
     "duration": 12.742252,
     "end_time": "2022-03-13T04:01:28.121673",
     "exception": false,
     "start_time": "2022-03-13T04:01:15.379421",
     "status": "completed"
    },
    "tags": []
   },
   "outputs": [
    {
     "name": "stdout",
     "output_type": "stream",
     "text": [
      "---Model Building----\n",
      "---Model Building Done----\n",
      "---Model Summary----\n",
      "Model: \"sequential_1\"\n",
      "_________________________________________________________________\n",
      "Layer (type)                 Output Shape              Param #   \n",
      "=================================================================\n",
      "Dense1 (Dense)               (None, 31)                310031    \n",
      "_________________________________________________________________\n",
      "Dense2 (Dense)               (None, 17)                544       \n",
      "_________________________________________________________________\n",
      "Dense3 (Dense)               (None, 17)                306       \n",
      "_________________________________________________________________\n",
      "Dense_final (Dense)          (None, 1)                 18        \n",
      "=================================================================\n",
      "Total params: 310,899\n",
      "Trainable params: 310,899\n",
      "Non-trainable params: 0\n",
      "_________________________________________________________________\n",
      "---Model Training----\n",
      "Epoch 1/4\n",
      "49/49 [==============================] - 1s 14ms/step - loss: 0.4559 - accuracy: 0.8035\n",
      "Epoch 2/4\n",
      "49/49 [==============================] - 1s 13ms/step - loss: 0.2509 - accuracy: 0.9066\n",
      "Epoch 3/4\n",
      "49/49 [==============================] - 1s 14ms/step - loss: 0.1932 - accuracy: 0.9277\n",
      "Epoch 4/4\n",
      "49/49 [==============================] - 1s 12ms/step - loss: 0.1513 - accuracy: 0.9446\n",
      "---Model Evaluation----\n",
      "782/782 [==============================] - 2s 2ms/step - loss: 0.3106 - accuracy: 0.8807\n",
      "-----------Confusion Matrix(actual, pred)------------\n",
      "True Positives = 10978 \t True Negatives = 11040 \n",
      "Fale Negatives = 1522 \t False Positives = 1460\n",
      "=======================================\n",
      "Accuracy = 0.88072\n"
     ]
    }
   ],
   "source": [
    "# Repeat the above exercise for training on 4 epochs with the following changes to the model\n",
    "# Build a Sequential model with 3 Dense layers, with 31 and 17 neurons each and\n",
    "# the last with 1 neuron (num_classes)\n",
    "print('---Model Building----')\n",
    "model3 = tf.keras.models.Sequential([\n",
    "tf.keras.layers.Dense(31, activation='relu', name='Dense1', input_shape=(10000,)),\n",
    "tf.keras.layers.Dense(17, activation='relu', name='Dense2'),\n",
    "tf.keras.layers.Dense(17, activation='relu', name='Dense3'),\n",
    "# tf.keras.layers.Dropout(0.5, name='Dropout1'),\n",
    "tf.keras.layers.Dense(1, activation='sigmoid', name='Dense_final')\n",
    "])\n",
    "print('---Model Building Done----')\n",
    "print('---Model Summary----')\n",
    "model3.summary()\n",
    "model3.compile(optimizer='rmsprop',\n",
    "loss='binary_crossentropy',\n",
    "metrics=['accuracy'])\n",
    "print('---Model Training----')\n",
    "model3.fit(x_train, y_train, epochs=4, batch_size=512)\n",
    "print('---Model Evaluation----')\n",
    "model3.evaluate(x_test, y_test)\n",
    "pred3 = model3.predict(x_test)\n",
    "results3 = [1 if result >= 0.5 else 0 for result in pred3]\n",
    "display_confusion_matrix(y_test, results3)"
   ]
  },
  {
   "cell_type": "code",
   "execution_count": 31,
   "id": "7e384ad7",
   "metadata": {
    "execution": {
     "iopub.execute_input": "2022-03-13T04:01:28.537720Z",
     "iopub.status.busy": "2022-03-13T04:01:28.516776Z",
     "iopub.status.idle": "2022-03-13T04:01:28.643265Z",
     "shell.execute_reply": "2022-03-13T04:01:28.643877Z",
     "shell.execute_reply.started": "2022-03-13T03:59:03.803429Z"
    },
    "papermill": {
     "duration": 0.33395,
     "end_time": "2022-03-13T04:01:28.644067",
     "exception": false,
     "start_time": "2022-03-13T04:01:28.310117",
     "status": "completed"
    },
    "tags": []
   },
   "outputs": [
    {
     "name": "stdout",
     "output_type": "stream",
     "text": [
      "-----------Confusion Matrix(actual, pred)------------\n",
      "True Positives = 10978 \t True Negatives = 11040 \n",
      "Fale Negatives = 1522 \t False Positives = 1460\n",
      "=======================================\n",
      "Accuracy = 0.88072\n"
     ]
    }
   ],
   "source": [
    "# pred3 = model3.predict(x_test)\n",
    "# display_confusion_matrix(y_test, np.argmax(pred3,axis=-1))\n",
    "results3 = [1 if result >= 0.5 else 0 for result in pred3]\n",
    "display_confusion_matrix(y_test, results3)"
   ]
  },
  {
   "cell_type": "markdown",
   "id": "b613a05a",
   "metadata": {
    "papermill": {
     "duration": 0.184841,
     "end_time": "2022-03-13T04:01:29.013669",
     "exception": false,
     "start_time": "2022-03-13T04:01:28.828828",
     "status": "completed"
    },
    "tags": []
   },
   "source": [
    "### <font color=deeppink> Dealing with overfitting </font>\n",
    "#### Add Dropout layers "
   ]
  },
  {
   "cell_type": "code",
   "execution_count": 32,
   "id": "662f52c6",
   "metadata": {
    "execution": {
     "iopub.execute_input": "2022-03-13T04:01:29.392673Z",
     "iopub.status.busy": "2022-03-13T04:01:29.391837Z",
     "iopub.status.idle": "2022-03-13T04:01:51.887314Z",
     "shell.execute_reply": "2022-03-13T04:01:51.888439Z",
     "shell.execute_reply.started": "2022-03-13T03:59:09.361591Z"
    },
    "papermill": {
     "duration": 22.690524,
     "end_time": "2022-03-13T04:01:51.888714",
     "exception": false,
     "start_time": "2022-03-13T04:01:29.198190",
     "status": "completed"
    },
    "tags": []
   },
   "outputs": [
    {
     "name": "stdout",
     "output_type": "stream",
     "text": [
      "Model: \"sequential_2\"\n",
      "_________________________________________________________________\n",
      "Layer (type)                 Output Shape              Param #   \n",
      "=================================================================\n",
      "Dense1 (Dense)               (None, 16)                160016    \n",
      "_________________________________________________________________\n",
      "Dense2 (Dense)               (None, 16)                272       \n",
      "_________________________________________________________________\n",
      "Dropout1 (Dropout)           (None, 16)                0         \n",
      "_________________________________________________________________\n",
      "Dense_final (Dense)          (None, 1)                 17        \n",
      "=================================================================\n",
      "Total params: 160,305\n",
      "Trainable params: 160,305\n",
      "Non-trainable params: 0\n",
      "_________________________________________________________________\n",
      "---Model Training----\n",
      "Epoch 1/20\n",
      "49/49 [==============================] - 1s 12ms/step - loss: 0.5281 - accuracy: 0.7575\n",
      "Epoch 2/20\n",
      "49/49 [==============================] - 1s 12ms/step - loss: 0.3527 - accuracy: 0.8701\n",
      "Epoch 3/20\n",
      "49/49 [==============================] - 1s 13ms/step - loss: 0.2821 - accuracy: 0.9025\n",
      "Epoch 4/20\n",
      "49/49 [==============================] - 1s 12ms/step - loss: 0.2376 - accuracy: 0.9161\n",
      "Epoch 5/20\n",
      "49/49 [==============================] - 1s 12ms/step - loss: 0.2025 - accuracy: 0.9321\n",
      "Epoch 6/20\n",
      "49/49 [==============================] - 1s 12ms/step - loss: 0.1765 - accuracy: 0.9410\n",
      "Epoch 7/20\n",
      "49/49 [==============================] - 1s 11ms/step - loss: 0.1580 - accuracy: 0.9506\n",
      "Epoch 8/20\n",
      "49/49 [==============================] - 1s 12ms/step - loss: 0.1409 - accuracy: 0.9573\n",
      "Epoch 9/20\n",
      "49/49 [==============================] - 1s 12ms/step - loss: 0.1258 - accuracy: 0.9609\n",
      "Epoch 10/20\n",
      "49/49 [==============================] - 1s 12ms/step - loss: 0.1072 - accuracy: 0.9688\n",
      "Epoch 11/20\n",
      "49/49 [==============================] - 1s 11ms/step - loss: 0.0959 - accuracy: 0.9726\n",
      "Epoch 12/20\n",
      "49/49 [==============================] - 1s 13ms/step - loss: 0.0836 - accuracy: 0.9767\n",
      "Epoch 13/20\n",
      "49/49 [==============================] - 1s 13ms/step - loss: 0.0729 - accuracy: 0.9805\n",
      "Epoch 14/20\n",
      "49/49 [==============================] - 1s 14ms/step - loss: 0.0637 - accuracy: 0.9842\n",
      "Epoch 15/20\n",
      "49/49 [==============================] - 1s 16ms/step - loss: 0.0525 - accuracy: 0.9874\n",
      "Epoch 16/20\n",
      "49/49 [==============================] - 1s 14ms/step - loss: 0.0475 - accuracy: 0.9887\n",
      "Epoch 17/20\n",
      "49/49 [==============================] - 1s 12ms/step - loss: 0.0401 - accuracy: 0.9907\n",
      "Epoch 18/20\n",
      "49/49 [==============================] - 1s 11ms/step - loss: 0.0363 - accuracy: 0.9909\n",
      "Epoch 19/20\n",
      "49/49 [==============================] - 0s 10ms/step - loss: 0.0333 - accuracy: 0.9924\n",
      "Epoch 20/20\n",
      "49/49 [==============================] - 0s 10ms/step - loss: 0.0283 - accuracy: 0.9942\n",
      "---Model Evaluation----\n",
      "782/782 [==============================] - 2s 2ms/step - loss: 0.8683 - accuracy: 0.8599\n",
      "-----------Confusion Matrix(actual, pred)------------\n",
      "True Positives = 10948 \t True Negatives = 10549 \n",
      "Fale Negatives = 1552 \t False Positives = 1951\n",
      "=======================================\n",
      "Accuracy = 0.85988\n"
     ]
    }
   ],
   "source": [
    "model2 = tf.keras.models.Sequential([\n",
    "tf.keras.layers.Dense(16, activation='relu', name='Dense1', input_shape=(10000,)),\n",
    "tf.keras.layers.Dense(16, activation='relu', name='Dense2'),\n",
    "tf.keras.layers.Dropout(0.5, name='Dropout1'),\n",
    "tf.keras.layers.Dense(1, activation='sigmoid', name='Dense_final')\n",
    "])\n",
    "model2.summary()\n",
    "model2.compile(optimizer='rmsprop',\n",
    "loss='binary_crossentropy',\n",
    "metrics=['accuracy'])\n",
    "print('---Model Training----')\n",
    "model2.fit(x_train, y_train, epochs=20, batch_size=512)\n",
    "print('---Model Evaluation----')\n",
    "model2.evaluate(x_test, y_test)\n",
    "pred2 = model2.predict(x_test)\n",
    "\n",
    "results3 = [1 if result >= 0.5 else 0 for result in pred2]\n",
    "display_confusion_matrix(y_test, results3)"
   ]
  },
  {
   "cell_type": "code",
   "execution_count": null,
   "id": "1e084112",
   "metadata": {
    "papermill": {
     "duration": 0.271741,
     "end_time": "2022-03-13T04:01:52.551784",
     "exception": false,
     "start_time": "2022-03-13T04:01:52.280043",
     "status": "completed"
    },
    "tags": []
   },
   "outputs": [],
   "source": []
  }
 ],
 "metadata": {
  "kernelspec": {
   "display_name": "Python 3",
   "language": "python",
   "name": "python3"
  },
  "language_info": {
   "codemirror_mode": {
    "name": "ipython",
    "version": 3
   },
   "file_extension": ".py",
   "mimetype": "text/x-python",
   "name": "python",
   "nbconvert_exporter": "python",
   "pygments_lexer": "ipython3",
   "version": "3.7.12"
  },
  "papermill": {
   "default_parameters": {},
   "duration": 124.501709,
   "end_time": "2022-03-13T04:01:56.439684",
   "environment_variables": {},
   "exception": null,
   "input_path": "__notebook__.ipynb",
   "output_path": "__notebook__.ipynb",
   "parameters": {},
   "start_time": "2022-03-13T03:59:51.937975",
   "version": "2.3.3"
  }
 },
 "nbformat": 4,
 "nbformat_minor": 5
}
